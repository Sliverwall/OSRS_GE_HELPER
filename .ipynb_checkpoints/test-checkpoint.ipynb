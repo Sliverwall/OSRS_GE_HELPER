{
 "cells": [
  {
   "cell_type": "markdown",
   "id": "896443c1",
   "metadata": {},
   "source": [
    "# Test OSRS ge api features"
   ]
  },
  {
   "cell_type": "code",
   "execution_count": 2,
   "id": "750c7b81",
   "metadata": {},
   "outputs": [],
   "source": [
    "import requests\n",
    "import json"
   ]
  },
  {
   "cell_type": "code",
   "execution_count": null,
   "id": "38b30ad4",
   "metadata": {},
   "outputs": [],
   "source": [
    "itemID = 560\n",
    "r = requests.get('https://secure.runescape.com/m=itemdb_oldschool/api/catalogue/detail.json', params={'item':itemID})"
   ]
  }
 ],
 "metadata": {
  "kernelspec": {
   "display_name": "osrs",
   "language": "python",
   "name": "osrs"
  },
  "language_info": {
   "codemirror_mode": {
    "name": "ipython",
    "version": 3
   },
   "file_extension": ".py",
   "mimetype": "text/x-python",
   "name": "python",
   "nbconvert_exporter": "python",
   "pygments_lexer": "ipython3",
   "version": "3.10.11"
  }
 },
 "nbformat": 4,
 "nbformat_minor": 5
}

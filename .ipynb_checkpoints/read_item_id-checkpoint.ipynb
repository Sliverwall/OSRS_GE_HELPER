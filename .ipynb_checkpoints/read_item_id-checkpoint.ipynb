{
 "cells": [
  {
   "cell_type": "code",
   "execution_count": 1,
   "id": "601a4de1",
   "metadata": {},
   "outputs": [],
   "source": [
    "import pandas as pd\n",
    "import matplotlib.pyplot as plt"
   ]
  },
  {
   "cell_type": "code",
   "execution_count": 3,
   "id": "762b0ecb",
   "metadata": {},
   "outputs": [],
   "source": [
    "itemKeysFile = \"data/item_keys.csv\"\n",
    "itemKeys = pd.read_csv(itemKeysFile)"
   ]
  },
  {
   "cell_type": "code",
   "execution_count": 12,
   "id": "75d3dd9e",
   "metadata": {},
   "outputs": [
    {
     "name": "stdout",
     "output_type": "stream",
     "text": [
      "Abyssal_whip\n"
     ]
    }
   ],
   "source": [
    "item = itemKeys[itemKeys['name'] == 'Abyssal_whip']['id'].iloc[0]\n",
    "\n",
    "print(item)"
   ]
  }
 ],
 "metadata": {
  "kernelspec": {
   "display_name": "Python 3 (ipykernel)",
   "language": "python",
   "name": "python3"
  },
  "language_info": {
   "codemirror_mode": {
    "name": "ipython",
    "version": 3
   },
   "file_extension": ".py",
   "mimetype": "text/x-python",
   "name": "python",
   "nbconvert_exporter": "python",
   "pygments_lexer": "ipython3",
   "version": "3.9.13"
  }
 },
 "nbformat": 4,
 "nbformat_minor": 5
}

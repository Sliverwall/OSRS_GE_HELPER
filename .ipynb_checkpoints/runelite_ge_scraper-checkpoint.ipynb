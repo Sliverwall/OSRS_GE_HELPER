{
 "cells": [
  {
   "cell_type": "code",
   "execution_count": 1,
   "id": "4f729313",
   "metadata": {},
   "outputs": [],
   "source": [
    "import requests\n",
    "import json\n",
    "import csv\n",
    "import time\n",
    "import os.path\n",
    "import pandas as pd"
   ]
  },
  {
   "cell_type": "code",
   "execution_count": 2,
   "id": "daab6235",
   "metadata": {},
   "outputs": [],
   "source": [
    "'''getQuery function takes a url request and header dict, then returns a formatted json file'''\n",
    "def getQuery(url, headers):\n",
    "    # Get get request for json \n",
    "    r = requests.get(url, headers=headers)\n",
    "    # use json loader to format output\n",
    "    json_data = json.loads(r.text)\n",
    "    # return the data and when that data was queried\n",
    "    return json_data\n",
    "\n",
    "'''formatQuery takes a json_data set then formats it according to the runeliteAPI timeseries data then returns the results'''\n",
    "def formatQuery(json_data, itemName):\n",
    "    itemID = json_data['itemId']\n",
    "    samples = []\n",
    "    # Loop through data key from queried data\n",
    "    for item in json_data['data']:\n",
    "        entry = (\n",
    "            itemID,\n",
    "            itemName,\n",
    "            item['timestamp'],\n",
    "            item['avgHighPrice'],\n",
    "            item['avgLowPrice'],\n",
    "            item['highPriceVolume'],\n",
    "            item['lowPriceVolume']\n",
    "        )\n",
    "        samples.append(entry)\n",
    "    # Return\n",
    "    return samples\n",
    "def runeliteToCSV(samples, filePath, colNames, appendIfPossible=True): \n",
    "    # Check if we need to append or write\n",
    "    # Append if path exists and append is on\n",
    "    if os.path.isfile(filePath) and appendIfPossible:\n",
    "        writeMode = 'a'\n",
    "        msg = \"appended\"\n",
    "    else:\n",
    "        writeMode = 'w'\n",
    "        msg = \"written\"\n",
    "        \n",
    "    with open(filePath, mode=writeMode, newline='') as f:\n",
    "        # Create csv writer\n",
    "        csvWriter = csv.writer(f, delimiter = ',')\n",
    "        # Write column names if not appending\n",
    "        if writeMode == 'w':\n",
    "            csvWriter.writerow(colNames)\n",
    "            \n",
    "        # Write out item data\n",
    "        for entry in samples:\n",
    "            csvWriter.writerow(entry)\n",
    "    print(f\"Output {msg} to {filePath}\")\n",
    "             "
   ]
  },
  {
   "cell_type": "code",
   "execution_count": 3,
   "id": "faee0dbc",
   "metadata": {},
   "outputs": [
    {
     "name": "stdout",
     "output_type": "stream",
     "text": [
      "Item ID found: 2577\n"
     ]
    }
   ],
   "source": [
    "'''Define needed variables'''\n",
    "# API key used to access summary jsons\n",
    "runeliteAPI = \"https://prices.runescape.wiki/api/v1/osrs/\"\n",
    "\n",
    "# Example exestion for time series query: /timeseries?timestep=5m&id=4151\n",
    "itemName = \"Ranger_boots\"\n",
    "timeSteps = [\"5m\", \"1h\", \"24h\"]\n",
    "\n",
    "# Get id based off item name\n",
    "df = pd.read_csv(\"data/item_keys.csv\")\n",
    "itemID = int(df[df['name'] == itemName]['id'].iloc[0])\n",
    "print(f\"Item ID found: {itemID}\")\n",
    "\n",
    "# User agent tag used to let wiki know why I am using their API. \n",
    "userAgent = {\n",
    "    'User-Agent': 'Machine Learning Practice',\n",
    "    'From': 'sliverwall (discord ID)'  # discord ID\n",
    "}\n",
    "\n",
    "# Define headers for output file\n",
    "colNames = [\"itemID\", \"name\", \"timestamp\",\"avgHighPrice\", \"avgLowPrice\", \"highPriceVolume\", \"lowPriceVolume\"]"
   ]
  },
  {
   "cell_type": "code",
   "execution_count": 4,
   "id": "4f81c14f",
   "metadata": {},
   "outputs": [
    {
     "name": "stdout",
     "output_type": "stream",
     "text": [
      "Query being used: https://prices.runescape.wiki/api/v1/osrs/timeseries?timestep=5m&id=2577\n",
      "Output written to data/runelite/runelite_data_5m_2577.csv\n",
      "Wait a moment before using the API again...\n",
      "Query being used: https://prices.runescape.wiki/api/v1/osrs/timeseries?timestep=1h&id=2577\n",
      "Output written to data/runelite/runelite_data_1h_2577.csv\n",
      "Wait a moment before using the API again...\n"
     ]
    }
   ],
   "source": [
    "'''Output section. Runs main logic'''\n",
    "for timeStep in timeSteps:\n",
    "    runeliteAPIQuery = runeliteAPI + f\"timeseries?timestep={timeStep}&id={itemID}\"\n",
    "\n",
    "    print(f\"Query being used: {runeliteAPIQuery}\")\n",
    "\n",
    "    # Define where data will be written to\n",
    "    fileName = f\"runelite_data_{timeStep}_{itemID}\"\n",
    "    outputDir = \"data/runelite/\"\n",
    "    fileExe = \".csv\"\n",
    "    filePath = outputDir + fileName + fileExe\n",
    "\n",
    "    # Collect data\n",
    "    data = getQuery(url=runeliteAPIQuery,\n",
    "                    headers=userAgent)\n",
    "\n",
    "    # Format data\n",
    "    samples = formatQuery(json_data=data, itemName=itemName)\n",
    "\n",
    "    # Write data to output file\n",
    "    runeliteToCSV(samples=samples, filePath=filePath, colNames=colNames, appendIfPossible=False) \n",
    "    print(\"Wait a moment before using the API again...\")\n",
    "    if timeStep != timeSteps[-1]:\n",
    "        time.sleep(5)"
   ]
  },
  {
   "cell_type": "code",
   "execution_count": null,
   "id": "d3b0b665",
   "metadata": {},
   "outputs": [],
   "source": []
  },
  {
   "cell_type": "code",
   "execution_count": null,
   "id": "87a177dc",
   "metadata": {},
   "outputs": [],
   "source": []
  }
 ],
 "metadata": {
  "kernelspec": {
   "display_name": "Python 3 (ipykernel)",
   "language": "python",
   "name": "python3"
  },
  "language_info": {
   "codemirror_mode": {
    "name": "ipython",
    "version": 3
   },
   "file_extension": ".py",
   "mimetype": "text/x-python",
   "name": "python",
   "nbconvert_exporter": "python",
   "pygments_lexer": "ipython3",
   "version": "3.9.13"
  }
 },
 "nbformat": 4,
 "nbformat_minor": 5
}

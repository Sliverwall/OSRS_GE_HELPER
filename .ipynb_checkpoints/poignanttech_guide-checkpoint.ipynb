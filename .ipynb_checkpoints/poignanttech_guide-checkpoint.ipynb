{
 "cells": [
  {
   "cell_type": "code",
   "execution_count": 8,
   "id": "7ad976d4",
   "metadata": {},
   "outputs": [],
   "source": [
    "import csv\n",
    "import requests\n",
    "import json\n",
    "import os\n",
    "import pandas as pd\n",
    "import sqlite3"
   ]
  },
  {
   "cell_type": "code",
   "execution_count": 6,
   "id": "03016871",
   "metadata": {},
   "outputs": [],
   "source": [
    "# Set dir\n",
    "local_dir = \"data/\"\n",
    "\n",
    "url = 'https://prices.runescape.wiki/api/v1/osrs/24h'\n",
    "\n",
    "# User agent tag used to let wiki know why I am using their API. \n",
    "userAgent = {\n",
    "    'User-Agent': 'Machine Learning Practice',\n",
    "    'From': 'sliverwall (discord ID)'  # discord ID\n",
    "}"
   ]
  },
  {
   "cell_type": "code",
   "execution_count": 7,
   "id": "cdfe1e29",
   "metadata": {},
   "outputs": [],
   "source": [
    "'''Grab 24h data'''\n",
    "\n",
    "daily_file = local_dir + \"24h.csv\"\n",
    "## Fetch data\n",
    "jsonResponse = requests.get(url, headers=userAgent)\n",
    "jsonData = jsonResponse.json()\n",
    "\n",
    "# Extract data\n",
    "currenttimestamp = jsonData[\"timestamp\"]\n",
    "responseData = jsonData[\"data\"]\n",
    "\n",
    "# Turn dict components to lists\n",
    "keylist = list(responseData.keys())\n",
    "valuelist = list(responseData.values())\n",
    "\n",
    "totalvalues = []\n",
    "totalkeysandvalues = []\n",
    "for value in valuelist:\n",
    "    subvalues = list(value.values())\n",
    "    totalvalues.append(subvalues)\n",
    "for key1, value1 in zip(keylist, totalvalues):\n",
    "    totalkeysandvalues.append([key1] + value1)\n",
    "with open(daily_file, 'w', newline='') as f:\n",
    "    writer = csv.writer(f, quoting=csv.QUOTE_MINIMAL, quotechar=\"'\")\n",
    "    writer.writerow(['id','avgHighPrice','highPriceVolume','avgLowPrice','lowPriceVolume'])\n",
    "    writer.writerows(totalkeysandvalues)"
   ]
  },
  {
   "cell_type": "code",
   "execution_count": 10,
   "id": "46add634",
   "metadata": {},
   "outputs": [
    {
     "name": "stdout",
     "output_type": "stream",
     "text": [
      "         id  avgHighPrice  highPriceVolume  avgLowPrice  lowPriceVolume\n",
      "0         2         292.0         20955146        286.0         8200778\n",
      "1         6      200309.0               89     193944.0             322\n",
      "2         8      188577.0              146     185168.0             440\n",
      "3        10      181042.0              178     175926.0             443\n",
      "4        12      195983.0              181     188748.0             364\n",
      "...     ...           ...              ...          ...             ...\n",
      "3825  30616       14309.0             2989      12306.0            1280\n",
      "3826  30619       11562.0             5010       9633.0            1786\n",
      "3827  30628     3816619.0               11    3730358.0             154\n",
      "3828  30631     2966663.0               26    2845450.0             142\n",
      "3829  30634     6922334.0              594    6837116.0             420\n",
      "\n",
      "[3830 rows x 5 columns]\n"
     ]
    }
   ],
   "source": [
    "'''create a template for generating reports'''\n",
    "\n",
    "# read daily report as df\n",
    "dailyCSV = pd.read_csv(daily_file, sep=\",\")\n",
    "\n",
    "# Initialize temp sqlite db and import Pandas Dataframe\n",
    "tempdb = sqlite3.connect(\":memory:\")\n",
    "\n",
    "# Import Pandas Dataframe into temp sqlite db\n",
    "dailyCSV.to_sql('dailyCSV', tempdb, if_exists='append', index=False)\n",
    "cur = tempdb.cursor()\n",
    "\n",
    "## run your queries here\n",
    "cur.execute('''CREATE TABLE FinalOutput AS SELECT * FROM dailyCSV;''')\n",
    "\n",
    "## print results to terminal\n",
    "finalOutputReport = pd.read_sql('''SELECT * FROM finalOutput;''', tempdb)\n",
    "print(finalOutputReport)\n",
    "\n",
    "## export results to .csv\n",
    "finalOutputReport.to_csv('HighLowSpreadReport.csv', index=False)"
   ]
  },
  {
   "cell_type": "code",
   "execution_count": null,
   "id": "56887bc4",
   "metadata": {},
   "outputs": [],
   "source": [
    "## run your queries here\n",
    "cur.execute('''CREATE TABLE finalOutput AS SELECT id, (avgHighPrice - avgLowPrice) AS Spread FROM dailyCSV ORDER BY Spread DESC;''')"
   ]
  }
 ],
 "metadata": {
  "kernelspec": {
   "display_name": "Python 3 (ipykernel)",
   "language": "python",
   "name": "python3"
  },
  "language_info": {
   "codemirror_mode": {
    "name": "ipython",
    "version": 3
   },
   "file_extension": ".py",
   "mimetype": "text/x-python",
   "name": "python",
   "nbconvert_exporter": "python",
   "pygments_lexer": "ipython3",
   "version": "3.9.13"
  }
 },
 "nbformat": 4,
 "nbformat_minor": 5
}

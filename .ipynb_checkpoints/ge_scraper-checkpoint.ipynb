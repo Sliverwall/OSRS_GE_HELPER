{
 "cells": [
  {
   "cell_type": "markdown",
   "id": "29f7c1fc",
   "metadata": {},
   "source": [
    "# ge_scraper\n",
    "\n",
    "- Takes data from the offical runescape GE api and extracts price of an item at a certain timestamp for the past 180 days. \n",
    "- The timestamps are taken for each day at 20:00:00. The untis are in ms"
   ]
  },
  {
   "cell_type": "code",
   "execution_count": 2,
   "id": "73dc41ec",
   "metadata": {},
   "outputs": [],
   "source": [
    "import requests\n",
    "import json\n",
    "import csv"
   ]
  },
  {
   "cell_type": "code",
   "execution_count": 6,
   "id": "8d477b3f",
   "metadata": {},
   "outputs": [
    {
     "name": "stdout",
     "output_type": "stream",
     "text": [
      "Local Time: 1729036800.0 -> 2024-10-15 20:00:00\n",
      "Local Time: 1729123200.0 -> 2024-10-16 20:00:00\n"
     ]
    }
   ],
   "source": [
    "'''Convert ms time from API to local time'''\n",
    "import datetime\n",
    "\n",
    "# Given timestamp in milliseconds\n",
    "timestamps = [1729036800000, 1729123200000]\n",
    "\n",
    "for ts in timestamps:\n",
    "    # Convert to seconds\n",
    "    ts /= 1000\n",
    "    # Convert to a readable datetime (local time)\n",
    "    readable_time = datetime.datetime.fromtimestamp(ts)\n",
    "    print(f\"Local Time: {ts} -> {readable_time}\")"
   ]
  },
  {
   "cell_type": "code",
   "execution_count": 4,
   "id": "55b15bbe",
   "metadata": {},
   "outputs": [],
   "source": [
    "csvName = 'Rune_Data'\n",
    "\n",
    "# get more item codes here: https://everythingrs.com/tools/osrs/itemlist/238\n",
    "# itemList = [1521, 1519, 1517, 1515]  # Logs\n",
    "itemList = list(range(554,567,1))  # Runes\n",
    "\n",
    "fullDict = {}\n",
    "labels = ['timestamp']\n"
   ]
  },
  {
   "cell_type": "code",
   "execution_count": 5,
   "id": "cadbead2",
   "metadata": {},
   "outputs": [
    {
     "name": "stdout",
     "output_type": "stream",
     "text": [
      "<Response [200]>\n"
     ]
    }
   ],
   "source": [
    "'''This grabs price at daily interval'''\n",
    "# Construct dictionary full of data\n",
    "for itemID in itemList:\n",
    "    r = requests.get(f'http://services.runescape.com/m=itemdb_oldschool/api/graph/{itemID}.json')\n",
    "    json_data = json.loads(r.text)\n",
    "    current_daily_dict = json_data['daily']\n",
    "\n",
    "    for daily_timestamp in current_daily_dict:\n",
    "        if (daily_timestamp in fullDict):\n",
    "            fullDict[daily_timestamp].append(current_daily_dict[daily_timestamp])\n",
    "        else:\n",
    "            fullDict[daily_timestamp] = [current_daily_dict[daily_timestamp]]\n",
    "    "
   ]
  },
  {
   "cell_type": "code",
   "execution_count": 3,
   "id": "a3048dae",
   "metadata": {},
   "outputs": [],
   "source": [
    "\n",
    "# Write to CSV file\n",
    "with open(f'data/ge/{csvName}.csv', mode='w', newline='') as GE_data:\n",
    "    GE_writer = csv.writer(GE_data, delimiter=',', quotechar='\"', quoting=csv.QUOTE_MINIMAL)\n",
    "\n",
    "    for daily_timestamp in fullDict:\n",
    "        new_array = [daily_timestamp]\n",
    "        new_array.extend(fullDict[daily_timestamp])\n",
    "        GE_writer.writerow(new_array)"
   ]
  }
 ],
 "metadata": {
  "kernelspec": {
   "display_name": "Python 3 (ipykernel)",
   "language": "python",
   "name": "python3"
  },
  "language_info": {
   "codemirror_mode": {
    "name": "ipython",
    "version": 3
   },
   "file_extension": ".py",
   "mimetype": "text/x-python",
   "name": "python",
   "nbconvert_exporter": "python",
   "pygments_lexer": "ipython3",
   "version": "3.9.13"
  }
 },
 "nbformat": 4,
 "nbformat_minor": 5
}

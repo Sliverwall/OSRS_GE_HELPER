{
 "cells": [
  {
   "cell_type": "markdown",
   "id": "cf286d98",
   "metadata": {},
   "source": [
    "# Test OSRS ge api features"
   ]
  },
  {
   "cell_type": "code",
   "execution_count": 2,
   "id": "3e67b706",
   "metadata": {},
   "outputs": [],
   "source": [
    "import requests\n",
    "import json"
   ]
  },
  {
   "cell_type": "code",
   "execution_count": 8,
   "id": "718c180a",
   "metadata": {},
   "outputs": [],
   "source": [
    "itemID = 560\n",
    "r = requests.get('https://secure.runescape.com/m=itemdb_oldschool/api/catalogue/detail.json', params={'item':itemID})\n",
    "\n",
    "jsonData = json.loads(r.text)\n",
    "jsonFormatedData = json.dumps(jsonData, indent=2)"
   ]
  },
  {
   "cell_type": "code",
   "execution_count": 9,
   "id": "b3fc8dae",
   "metadata": {},
   "outputs": [
    {
     "name": "stdout",
     "output_type": "stream",
     "text": [
      "{\n",
      "  \"item\": {\n",
      "    \"icon\": \"https://secure.runescape.com/m=itemdb_oldschool/1744202890743_obj_sprite.gif?id=560\",\n",
      "    \"icon_large\": \"https://secure.runescape.com/m=itemdb_oldschool/1744202890743_obj_big.gif?id=560\",\n",
      "    \"id\": 560,\n",
      "    \"type\": \"Default\",\n",
      "    \"typeIcon\": \"https://www.runescape.com/img/categories/Default\",\n",
      "    \"name\": \"Death rune\",\n",
      "    \"description\": \"Used for medium level missile spells.\",\n",
      "    \"current\": {\n",
      "      \"trend\": \"neutral\",\n",
      "      \"price\": 162\n",
      "    },\n",
      "    \"today\": {\n",
      "      \"trend\": \"negative\",\n",
      "      \"price\": \"- 1\"\n",
      "    },\n",
      "    \"members\": \"false\",\n",
      "    \"day30\": {\n",
      "      \"trend\": \"negative\",\n",
      "      \"change\": \"-7.0%\"\n",
      "    },\n",
      "    \"day90\": {\n",
      "      \"trend\": \"negative\",\n",
      "      \"change\": \"-0.0%\"\n",
      "    },\n",
      "    \"day180\": {\n",
      "      \"trend\": \"negative\",\n",
      "      \"change\": \"-5.0%\"\n",
      "    }\n",
      "  }\n",
      "}\n"
     ]
    }
   ],
   "source": [
    "print(jsonFormatedData)"
   ]
  }
 ],
 "metadata": {
  "kernelspec": {
   "display_name": "osrs",
   "language": "python",
   "name": "osrs"
  },
  "language_info": {
   "codemirror_mode": {
    "name": "ipython",
    "version": 3
   },
   "file_extension": ".py",
   "mimetype": "text/x-python",
   "name": "python",
   "nbconvert_exporter": "python",
   "pygments_lexer": "ipython3",
   "version": "3.10.11"
  }
 },
 "nbformat": 4,
 "nbformat_minor": 5
}

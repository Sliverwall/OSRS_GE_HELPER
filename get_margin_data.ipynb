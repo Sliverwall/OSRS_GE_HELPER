{
 "cells": [
  {
   "cell_type": "code",
   "execution_count": 42,
   "id": "60b0ef83",
   "metadata": {},
   "outputs": [],
   "source": [
    "import requests\n",
    "import json\n",
    "import pandas as pd"
   ]
  },
  {
   "cell_type": "code",
   "execution_count": 43,
   "id": "d2299467",
   "metadata": {},
   "outputs": [],
   "source": [
    "'''getQuery function takes a url request and header dict, then returns a formatted json file'''\n",
    "def getQuery(url, headers):\n",
    "    # Get get request for json \n",
    "    r = requests.get(url, headers=headers)\n",
    "    # use json loader to format output\n",
    "    json_data = json.loads(r.text)\n",
    "    # return the data and when that data was queried\n",
    "    return json_data\n",
    "\n",
    "'''formatQuery takes a json_data set then formats it according to the runeliteAPI timeseries data then returns the results'''\n",
    "def formatQuery(json_data, itemKeys): \n",
    "    samples = []\n",
    "    for itemID in itemKeys['id']:\n",
    "        strID = str(itemID)\n",
    "        if strID in json_data['data']:\n",
    "            # Get name based on itemID\n",
    "            itemName = itemKeys[itemKeys['id'] == itemID]['name'].iloc[0]\n",
    "            # Calc the margin based on high and low\n",
    "            margin = json_data['data'][strID]['high'] - json_data['data'][strID]['low']\n",
    "            \n",
    "            # Get the tax adjusted margin. GE tax cap is 5mil\n",
    "            tax = min((json_data['data'][strID]['high'] * 0.01), 5000000)\n",
    "            marginAdjusted = (json_data['data'][strID]['high'] - tax) - json_data['data'][strID]['low']\n",
    "            entry = (\n",
    "                itemID,\n",
    "                itemName,\n",
    "                json_data['data'][strID]['high'],\n",
    "                json_data['data'][strID]['highTime'],\n",
    "                json_data['data'][strID]['low'],\n",
    "                json_data['data'][strID]['lowTime'],\n",
    "                margin,\n",
    "                marginAdjusted \n",
    "            )\n",
    "            samples.append(entry)\n",
    "    return samples"
   ]
  },
  {
   "cell_type": "code",
   "execution_count": 44,
   "id": "1ebb59a1",
   "metadata": {},
   "outputs": [
    {
     "name": "stdout",
     "output_type": "stream",
     "text": [
      "Query being used: https://prices.runescape.wiki/api/v1/osrs/latest\n"
     ]
    }
   ],
   "source": [
    "'''Define needed variables'''\n",
    "# API key used to access summary jsons\n",
    "runeliteAPI = \"https://prices.runescape.wiki/api/v1/osrs/latest\"\n",
    "\n",
    "print(f\"Query being used: {runeliteAPI}\")\n",
    "\n",
    "# Get item key data to match ids to items\n",
    "itemKeys = pd.read_csv(\"data/item_keys.csv\")\n",
    "\n",
    "# User agent tag used to let wiki know why I am using their API. \n",
    "userAgent = {\n",
    "    'User-Agent': 'Machine Learning Practice',\n",
    "    'From': 'sliverwall (discord ID)'  # discord ID\n",
    "}\n",
    "\n",
    "# Define where data will be written to\n",
    "fileName = f\"runelite_data_margins\"\n",
    "outputDir = \"data/\"\n",
    "fileExe = \".csv\"\n",
    "filePath = outputDir + fileName + fileExe\n",
    "\n",
    "# Define headers for output file\n",
    "colNames = [\"itemID\", \"name\", \"high\", \"highTime\", \"low\", \"lowTime\", \"margin\", \"marginAdjusted\"]"
   ]
  },
  {
   "cell_type": "code",
   "execution_count": 46,
   "id": "99383fde",
   "metadata": {},
   "outputs": [
    {
     "name": "stdout",
     "output_type": "stream",
     "text": [
      "Margin data written to data/runelite_data_margins.csv\n"
     ]
    }
   ],
   "source": [
    "'''Main function'''\n",
    "# Query for all known margins from /latests\n",
    "jsonData = getQuery(runeliteAPI, userAgent)\n",
    "\n",
    "# format into a sample list\n",
    "samples = formatQuery(jsonData, itemKeys)\n",
    "\n",
    "# Create df for the margin data\n",
    "marginData = pd.DataFrame(samples, columns=colNames)\n",
    "\n",
    "\n",
    "'''Merge limits to this table'''\n",
    "# Read in item keys to match limits to given items\n",
    "itemKeys = pd.read_csv(\"data/item_keys.csv\")\n",
    "\n",
    "filteredItemKeys = itemKeys[['id', 'limit']]\n",
    "\n",
    "# Now merge\n",
    "merged_df = pd.merge(\n",
    "    marginData, filteredItemKeys,\n",
    "    left_on='itemID',\n",
    "    right_on='id',\n",
    "    how='left'\n",
    ")\n",
    "# Drop the extra id column\n",
    "merged_df = merged_df.drop(columns='id')\n",
    "\n",
    "# Add a potential profited based on marginAdjusted * limit\n",
    "merged_df['potentialProfit'] = merged_df['marginAdjusted'] * merged_df['limit']\n",
    "\n",
    "# Sort column based on marginAdjusted in descending order\n",
    "merged_df = merged_df.sort_values(by='marginAdjusted', ascending=False)\n",
    "\n",
    "'''Write final output to a csv'''\n",
    "# Write data to csv\n",
    "merged_df.to_csv(filePath, index=False)\n",
    "\n",
    "print(f\"Margin data written to {filePath}\")"
   ]
  }
 ],
 "metadata": {
  "kernelspec": {
   "display_name": "Python 3 (ipykernel)",
   "language": "python",
   "name": "python3"
  },
  "language_info": {
   "codemirror_mode": {
    "name": "ipython",
    "version": 3
   },
   "file_extension": ".py",
   "mimetype": "text/x-python",
   "name": "python",
   "nbconvert_exporter": "python",
   "pygments_lexer": "ipython3",
   "version": "3.9.13"
  }
 },
 "nbformat": 4,
 "nbformat_minor": 5
}

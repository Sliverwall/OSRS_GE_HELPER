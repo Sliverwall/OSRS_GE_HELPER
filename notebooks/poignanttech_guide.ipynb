{
 "cells": [
  {
   "cell_type": "code",
   "execution_count": 8,
   "id": "2895cac5",
   "metadata": {},
   "outputs": [],
   "source": [
    "import csv\n",
    "import requests\n",
    "import json\n",
    "import os\n",
    "import pandas as pd\n",
    "import sqlite3"
   ]
  },
  {
   "cell_type": "code",
   "execution_count": 6,
   "id": "e3cd8044",
   "metadata": {},
   "outputs": [],
   "source": [
    "# Set dir\n",
    "local_dir = \"data/\"\n",
    "\n",
    "url = 'https://prices.runescape.wiki/api/v1/osrs/24h'\n",
    "\n",
    "# User agent tag used to let wiki know why I am using their API. \n",
    "userAgent = {\n",
    "    'User-Agent': 'Machine Learning Practice',\n",
    "    'From': 'sliverwall (discord ID)'  # discord ID\n",
    "}"
   ]
  },
  {
   "cell_type": "code",
   "execution_count": 7,
   "id": "9d39ec0b",
   "metadata": {},
   "outputs": [],
   "source": [
    "'''Grab 24h data'''\n",
    "\n",
    "daily_file = local_dir + \"24h.csv\"\n",
    "## Fetch data\n",
    "jsonResponse = requests.get(url, headers=userAgent)\n",
    "jsonData = jsonResponse.json()\n",
    "\n",
    "# Extract data\n",
    "currenttimestamp = jsonData[\"timestamp\"]\n",
    "responseData = jsonData[\"data\"]\n",
    "\n",
    "# Turn dict components to lists\n",
    "keylist = list(responseData.keys())\n",
    "valuelist = list(responseData.values())\n",
    "\n",
    "totalvalues = []\n",
    "totalkeysandvalues = []\n",
    "for value in valuelist:\n",
    "    subvalues = list(value.values())\n",
    "    totalvalues.append(subvalues)\n",
    "for key1, value1 in zip(keylist, totalvalues):\n",
    "    totalkeysandvalues.append([key1] + value1)\n",
    "with open(daily_file, 'w', newline='') as f:\n",
    "    writer = csv.writer(f, quoting=csv.QUOTE_MINIMAL, quotechar=\"'\")\n",
    "    writer.writerow(['id','avgHighPrice','highPriceVolume','avgLowPrice','lowPriceVolume'])\n",
    "    writer.writerows(totalkeysandvalues)"
   ]
  },
  {
   "cell_type": "code",
   "execution_count": 10,
   "id": "7598ba2e",
   "metadata": {},
   "outputs": [
    {
     "name": "stdout",
     "output_type": "stream",
     "text": [
      "         id  avgHighPrice  highPriceVolume  avgLowPrice  lowPriceVolume\n",
      "0         2         292.0         20955146        286.0         8200778\n",
      "1         6      200309.0               89     193944.0             322\n",
      "2         8      188577.0              146     185168.0             440\n",
      "3        10      181042.0              178     175926.0             443\n",
      "4        12      195983.0              181     188748.0             364\n",
      "...     ...           ...              ...          ...             ...\n",
      "3825  30616       14309.0             2989      12306.0            1280\n",
      "3826  30619       11562.0             5010       9633.0            1786\n",
      "3827  30628     3816619.0               11    3730358.0             154\n",
      "3828  30631     2966663.0               26    2845450.0             142\n",
      "3829  30634     6922334.0              594    6837116.0             420\n",
      "\n",
      "[3830 rows x 5 columns]\n"
     ]
    }
   ],
   "source": [
    "'''create a template for generating reports'''\n",
    "\n",
    "# read daily report as df\n",
    "dailyCSV = pd.read_csv(daily_file, sep=\",\")\n",
    "\n",
    "# Initialize temp sqlite db and import Pandas Dataframe\n",
    "tempdb = sqlite3.connect(\":memory:\")\n",
    "\n",
    "# Import Pandas Dataframe into temp sqlite db\n",
    "dailyCSV.to_sql('dailyCSV', tempdb, if_exists='append', index=False)\n",
    "cur = tempdb.cursor()\n",
    "\n",
    "## run your queries here\n",
    "cur.execute('''CREATE TABLE FinalOutput AS SELECT * FROM dailyCSV;''')\n",
    "\n",
    "## print results to terminal\n",
    "finalOutputReport = pd.read_sql('''SELECT * FROM finalOutput;''', tempdb)\n",
    "print(finalOutputReport)\n",
    "\n",
    "## export results to .csv\n",
    "finalOutputReport.to_csv('HighLowSpreadReport.csv', index=False)"
   ]
  },
  {
   "cell_type": "code",
   "execution_count": 17,
   "id": "625d3edd",
   "metadata": {},
   "outputs": [
    {
     "name": "stdout",
     "output_type": "stream",
     "text": [
      "         id  avgHighPrice     Spread  PotentialDailyGrossProfit\n",
      "0     20997  1.510641e+09  4962157.0               1.141296e+09\n",
      "1     27277  1.174168e+09  3629522.0               1.030784e+09\n",
      "2     22486  1.821881e+09  5400907.0               8.479424e+08\n",
      "3     26374  3.381085e+08  2038680.0               7.135380e+08\n",
      "4     28338  4.466836e+08  3197190.0               6.586211e+08\n",
      "...     ...           ...        ...                        ...\n",
      "3825  29210           NaN        NaN                        NaN\n",
      "3826  29213           NaN        NaN                        NaN\n",
      "3827  29622           NaN        NaN                        NaN\n",
      "3828  30328  9.900000e+03        NaN                        NaN\n",
      "3829  30414           NaN        NaN                        NaN\n",
      "\n",
      "[3830 rows x 4 columns]\n"
     ]
    }
   ],
   "source": [
    "## run your queries here\n",
    "SpreadReport = pd.read_sql('''\n",
    "\n",
    "SELECT id, avgHighPrice, (avgHighPrice - avgLowPrice) AS Spread, ((avgHighPrice - avgLowPrice) * ((lowPriceVolume + highPriceVolume)/2)) AS PotentialDailyGrossProfit \n",
    "FROM DailyCSV \n",
    "ORDER BY PotentialDailyGrossProfit DESC\n",
    "''', tempdb)\n",
    "\n",
    "print(SpreadReport)"
   ]
  }
 ],
 "metadata": {
  "kernelspec": {
   "display_name": "Python 3 (ipykernel)",
   "language": "python",
   "name": "python3"
  },
  "language_info": {
   "codemirror_mode": {
    "name": "ipython",
    "version": 3
   },
   "file_extension": ".py",
   "mimetype": "text/x-python",
   "name": "python",
   "nbconvert_exporter": "python",
   "pygments_lexer": "ipython3",
   "version": "3.9.13"
  }
 },
 "nbformat": 4,
 "nbformat_minor": 5
}

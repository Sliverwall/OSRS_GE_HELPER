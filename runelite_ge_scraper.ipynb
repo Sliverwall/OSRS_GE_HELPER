{
 "cells": [
  {
   "cell_type": "code",
   "execution_count": 54,
   "id": "4f729313",
   "metadata": {},
   "outputs": [],
   "source": [
    "import requests\n",
    "import json\n",
    "import csv\n",
    "import time\n",
    "import os.path"
   ]
  },
  {
   "cell_type": "code",
   "execution_count": 57,
   "id": "4a090d83",
   "metadata": {},
   "outputs": [
    {
     "name": "stdout",
     "output_type": "stream",
     "text": [
      "Local Time: 1744449900 -> 2025-04-12 05:25:00\n",
      "Local Time: 1744559100 -> 2025-04-13 11:45:00\n"
     ]
    }
   ],
   "source": [
    "'''Convert ms time from API to local time'''\n",
    "import datetime\n",
    "\n",
    "# Given timestamp in milliseconds\n",
    "timestamps = [1744449900, 1744559100]\n",
    "\n",
    "for ts in timestamps:\n",
    "    # Convert to seconds\n",
    "    \n",
    "    # Convert to a readable datetime (local time)\n",
    "    readable_time = datetime.datetime.fromtimestamp(ts)\n",
    "    print(f\"Local Time: {ts} -> {readable_time}\")"
   ]
  },
  {
   "cell_type": "code",
   "execution_count": 79,
   "id": "faee0dbc",
   "metadata": {},
   "outputs": [
    {
     "name": "stdout",
     "output_type": "stream",
     "text": [
      "Query being used: https://prices.runescape.wiki/api/v1/osrs/timeseries?timestep=5m&id=4151\n"
     ]
    }
   ],
   "source": [
    "'''Define needed variables'''\n",
    "# API key used to access summary jsons\n",
    "runeliteAPI = \"https://prices.runescape.wiki/api/v1/osrs/\"\n",
    "\n",
    "# Example exestion for time series query: /timeseries?timestep=5m&id=4151\n",
    "timeStep = \"5m\"\n",
    "itemID = 4151\n",
    "\n",
    "runeliteAPIQuery = runeliteAPI + f\"timeseries?timestep={timeStep}&id={itemID}\"\n",
    "\n",
    "print(f\"Query being used: {runeliteAPIQuery}\")\n",
    "\n",
    "# User agent tag used to let wiki know why I am using their API. \n",
    "userAgent = {\n",
    "    'User-Agent': 'Machine Learning Practice',\n",
    "    'From': 'sliverwall (discord ID)'  # discord ID\n",
    "}\n",
    "\n",
    "# Define where data will be written to\n",
    "fileName = f\"runelite_data_{timeStep}_{itemID}\"\n",
    "outputDir = \"data/runelite/\"\n",
    "fileExe = \".csv\"\n",
    "filePath = outputDir + fileName + fileExe\n",
    "\n",
    "# Define headers for output file\n",
    "colNames = [\"itemID\", \"timeRecorded\", \"timestamp\",\"avgHighPrice\", \"avgLowPrice\", \"highPriceVolume\", \"lowPriceVolume\"]"
   ]
  },
  {
   "cell_type": "code",
   "execution_count": 82,
   "id": "afa10b0c",
   "metadata": {},
   "outputs": [],
   "source": [
    "'''getQuery function takes a url request and header dict, then returns a formatted json file'''\n",
    "def getQuery(url, headers):\n",
    "    # Get time data was loaded in\n",
    "    current_timestamp = int(time.time())\n",
    "    # Get get request for json \n",
    "    r = requests.get(url, headers=headers)\n",
    "    # use json loader to format output\n",
    "    json_data = json.loads(r.text)\n",
    "    # return the data and when that data was queried\n",
    "    return json_data, current_timestamp\n",
    "\n",
    "'''formatQuery takes a json_data set then formats it according to the runeliteAPI timeseries data then returns the results'''\n",
    "def formatQuery(json_data, timestamp):\n",
    "    itemID = json_data['itemId']\n",
    "    samples = []\n",
    "    # Loop through data key from queried data\n",
    "    for item in json_data['data']:\n",
    "        entry = (\n",
    "            itemID,\n",
    "            timestamp,\n",
    "            item['timestamp'],\n",
    "            item['avgHighPrice'],\n",
    "            item['avgLowPrice'],\n",
    "            item['highPriceVolume'],\n",
    "            item['lowPriceVolume']\n",
    "        )\n",
    "        samples.append(entry)\n",
    "    # Return\n",
    "    return samples\n",
    "def runeliteToCSV(samples, filePath, colNames, appendIfPossible=True,): \n",
    "    # Check if we need to append or write\n",
    "    # Append if path exists and append is on\n",
    "    if os.path.isfile(filePath) and appendIfPossible:\n",
    "        writeMode = 'a'\n",
    "        msg = \"appended\"\n",
    "    else:\n",
    "        writeMode = 'w'\n",
    "        msg = \"written\"\n",
    "        \n",
    "    with open(filePath, mode=writeMode, newline='') as f:\n",
    "        # Create csv writer\n",
    "        csvWriter = csv.writer(f, delimiter = ',')\n",
    "        # Write column names if not appending\n",
    "        if writeMode == 'w':\n",
    "            csvWriter.writerow(colNames)\n",
    "            \n",
    "        # Write out item data\n",
    "        for entry in samples:\n",
    "            csvWriter.writerow(entry)\n",
    "    print(f\"Output {msg} to {filePath}\")\n",
    "                        "
   ]
  },
  {
   "cell_type": "code",
   "execution_count": null,
   "id": "4f81c14f",
   "metadata": {},
   "outputs": [],
   "source": [
    "'''Output section. Runs main logic'''\n",
    "# Collect data\n",
    "data, current_timestamp = getQuery(url=runeliteAPIQuery,\n",
    "                headers=userAgent)\n",
    "\n",
    "# Format data\n",
    "samples = formatQuery(json_data=data, timestamp=current_timestamp)\n",
    "\n",
    "# Write data to output file\n",
    "runeliteToCSV(samples=samples, filePath=filePath, colNames=colNames) "
   ]
  }
 ],
 "metadata": {
  "kernelspec": {
   "display_name": "osrs",
   "language": "python",
   "name": "osrs"
  },
  "language_info": {
   "codemirror_mode": {
    "name": "ipython",
    "version": 3
   },
   "file_extension": ".py",
   "mimetype": "text/x-python",
   "name": "python",
   "nbconvert_exporter": "python",
   "pygments_lexer": "ipython3",
   "version": "3.10.11"
  }
 },
 "nbformat": 4,
 "nbformat_minor": 5
}
